{
  "nbformat": 4,
  "nbformat_minor": 0,
  "metadata": {
    "colab": {
      "name": "Rotação de Givens.ipynb",
      "provenance": [],
      "collapsed_sections": [],
      "authorship_tag": "ABX9TyP8EPnGdNTCQ4SGagrfL62R",
      "include_colab_link": true
    },
    "kernelspec": {
      "name": "python3",
      "display_name": "Python 3"
    }
  },
  "cells": [
    {
      "cell_type": "markdown",
      "metadata": {
        "id": "view-in-github",
        "colab_type": "text"
      },
      "source": [
        "<a href=\"https://colab.research.google.com/github/Juniormoraess/Algebra-Linear-Computacional/blob/master/Rota%C3%A7%C3%A3o%20de%20Givens.ipynb\" target=\"_parent\"><img src=\"https://colab.research.google.com/assets/colab-badge.svg\" alt=\"Open In Colab\"/></a>"
      ]
    },
    {
      "cell_type": "code",
      "metadata": {
        "id": "tTdz8lX3Pr0e",
        "colab_type": "code",
        "colab": {}
      },
      "source": [
        "import random\n",
        "import numpy as np\n",
        "import time\n",
        "import matplotlib.pyplot as plt\n",
        "from math import hypot\n",
        "%matplotlib inline\n",
        "\n",
        "def RotacaoGivens(matriz):\n",
        "    n_linhas,n_colunas = np.shape(matriz)\n",
        "    Q = np.identity(n_linhas)\n",
        "    R = np.copy(matriz)\n",
        "    (linhas, colunas) = np.tril_indices(n_linhas, -1, n_colunas)\n",
        "    \n",
        "    for (lin,col) in zip(linhas,colunas): \n",
        "      if R[lin,col] != 0:\n",
        "        (c,s) = calcular_rotacao(R[col,col],R[lin,col])\n",
        "\n",
        "        G = np.identity(n_linhas)\n",
        "        G[[col,lin],[col,lin]] = c \n",
        "        G[lin,col] = s\n",
        "        G[col,lin] = -s\n",
        "                        \n",
        "        R = np.dot(G,R)\n",
        "        Q = np.dot(Q, G.T)\n",
        "        R_triangular = np.triu(R)\n",
        "            \n",
        "    return (Q,R_triangular)\n",
        "\n",
        "#Calcula os novos valores do cosseno e seno\n",
        "def calcular_rotacao(a,b): \n",
        "    r = hypot(a,b)\n",
        "    c = a/r\n",
        "    s = -b/r\n",
        "    return(c,s)\n",
        "\n",
        "#Para gerar o tempo médio de execução\n",
        "n_testes = 3 \n",
        "\n",
        "#Para gerar o tempo médio de execução\n",
        "exec_time_gr = np.zeros(5) \n",
        "\n",
        "A = np.random.randint(-999,999,(5,5))\n",
        "A_original = A\n",
        "lin_a, col_a = np.shape(A)\n",
        "\n",
        "start_time = time.time()\n",
        "\n",
        "for _ in range(n_testes):\n",
        "    Q,R = RotacaoGivens(A)\n",
        "\n",
        "end_time = time.time()\n",
        "\n",
        "exec_time = (end_time - start_time) / n_testes\n",
        "exec_time_gr[0] = round(exec_time, 6)\n",
        "\n",
        "print('\\nTempo de execução: %.6fs' % exec_time_gr[0])\n",
        "print('\\nMatriz A:\\n', A)\n",
        "print('\\nMatriz Q:\\n', Q)\n",
        "print('\\nMatriz R:\\n', R)\n",
        "print('\\nMatriz QR:\\n', Q@R)"
      ],
      "execution_count": 0,
      "outputs": []
    }
  ]
}